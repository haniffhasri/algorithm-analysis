{
 "cells": [
  {
   "cell_type": "code",
   "execution_count": 1,
   "metadata": {},
   "outputs": [
    {
     "name": "stdout",
     "output_type": "stream",
     "text": [
      "Selected Items:\n",
      "- sack of corn (Weight: 12 kg, Distance: 1)\n",
      "- tyres (Weight: 16 kg, Distance: 3)\n",
      "Total Weight: 28 kg\n",
      "Total Distance: 4\n"
     ]
    }
   ],
   "source": [
    "def trolley_problem(items, capacity):\n",
    "    # Step 1: Initialize the dynamic programming table\n",
    "    dp = [[0] * (capacity + 1) for _ in range(len(items) + 1)]\n",
    "\n",
    "    # Step 2: Fill in the dynamic programming table\n",
    "    for i, item in enumerate(items):\n",
    "        weight = item[\"weight\"]\n",
    "        distance = item[\"distance\"]\n",
    "        for capacity in range(1, capacity + 1):\n",
    "            if weight <= capacity:\n",
    "                dp[i + 1][capacity] = max(dp[i][capacity], weight + dp[i][capacity - weight] - distance)\n",
    "            else:\n",
    "                dp[i + 1][capacity] = dp[i][capacity]\n",
    "\n",
    "    # Step 3: Retrieve the selected items\n",
    "    selected_items = []\n",
    "    for i in range(len(items), 0, -1):\n",
    "        if dp[i][capacity] != dp[i - 1][capacity]:\n",
    "            item = items[i - 1]\n",
    "            selected_items.append(item)\n",
    "            capacity -= item[\"weight\"]\n",
    "\n",
    "    # Step 4: Reverse the list of selected items\n",
    "    selected_items.reverse()\n",
    "\n",
    "    # Step 5: Compute total weight and total distance\n",
    "    total_weight = sum(item[\"weight\"] for item in selected_items)\n",
    "    total_distance = sum(item[\"distance\"] for item in selected_items)\n",
    "\n",
    "    # Step 6: Return the result\n",
    "    return selected_items, total_weight, total_distance\n",
    "\n",
    "\n",
    "# Use the function\n",
    "shed_items = [\n",
    "{\"name\": \"sack of corn\", \"weight\": 12, \"distance\": 1},\n",
    "{\"name\": \"hoe\", \"weight\": 5, \"distance\": 1},\n",
    "{\"name\": \"oil tank\", \"weight\": 10, \"distance\": 5},\n",
    "{\"name\": \"tyres\", \"weight\": 16, \"distance\": 3}\n",
    "]\n",
    "\n",
    "trolley_capacity = 30\n",
    "\n",
    "selected_items, weight, distance = trolley_problem(shed_items, trolley_capacity)\n",
    "print(\"Selected Items:\")\n",
    "for item in selected_items:\n",
    "    print(f\"- {item['name']} (Weight: {item['weight']} kg, Distance: {item['distance']})\")\n",
    "\n",
    "print(\"Total Weight:\", weight, \"kg\")\n",
    "print(\"Total Distance:\", distance)\n"
   ]
  }
 ],
 "metadata": {
  "kernelspec": {
   "display_name": "base",
   "language": "python",
   "name": "python3"
  },
  "language_info": {
   "codemirror_mode": {
    "name": "ipython",
    "version": 3
   },
   "file_extension": ".py",
   "mimetype": "text/x-python",
   "name": "python",
   "nbconvert_exporter": "python",
   "pygments_lexer": "ipython3",
   "version": "3.10.9"
  },
  "orig_nbformat": 4
 },
 "nbformat": 4,
 "nbformat_minor": 2
}
